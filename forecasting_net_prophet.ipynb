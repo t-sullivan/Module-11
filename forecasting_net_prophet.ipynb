{
 "cells": [
  {
   "cell_type": "markdown",
   "metadata": {},
   "source": [
    "# Forecasting Net Prophet\n",
    "\n",
    "You’re a growth analyst at [MercadoLibre](http://investor.mercadolibre.com/investor-relations). With over 200 million users, MercadoLibre is the most popular e-commerce site in Latin America. You've been tasked with analyzing the company's financial and user data in clever ways to make the company grow. So, you want to find out if the ability to predict search traffic can translate into the ability to successfully trade the stock.\n",
    "\n",
    "Instructions\n",
    "\n",
    "This section divides the instructions for this Challenge into four steps and an optional fifth step, as follows:\n",
    "\n",
    "* Step 1: Find unusual patterns in hourly Google search traffic\n",
    "\n",
    "* Step 2: Mine the search traffic data for seasonality\n",
    "\n",
    "* Step 3: Relate the search traffic to stock price patterns\n",
    "\n",
    "* Step 4: Create a time series model with Prophet\n",
    "\n",
    "* Step 5 (optional): Forecast revenue by using time series models\n",
    "\n",
    "The following subsections detail these steps.\n",
    "\n",
    "## Step 1: Find Unusual Patterns in Hourly Google Search Traffic\n",
    "\n",
    "The data science manager asks if the Google search traffic for the company links to any financial events at the company. Or, does the search traffic data just present random noise? To answer this question, pick out any unusual patterns in the Google search data for the company, and connect them to the corporate financial events.\n",
    "\n",
    "To do so, complete the following steps:\n",
    "\n",
    "1. Read the search data into a DataFrame, and then slice the data to just the month of May 2020. (During this month, MercadoLibre released its quarterly financial results.) Use hvPlot to visualize the results. Do any unusual patterns exist?\n",
    "\n",
    "2. Calculate the total search traffic for the month, and then compare the value to the monthly median across all months. Did the Google search traffic increase during the month that MercadoLibre released its financial results?\n",
    "\n",
    "## Step 2: Mine the Search Traffic Data for Seasonality\n",
    "\n",
    "Marketing realizes that they can use the hourly search data, too. If they can track and predict interest in the company and its platform for any time of day, they can focus their marketing efforts around the times that have the most traffic. This will get a greater return on investment (ROI) from their marketing budget.\n",
    "\n",
    "To that end, you want to mine the search traffic data for predictable seasonal patterns of interest in the company. To do so, complete the following steps:\n",
    "\n",
    "1. Group the hourly search data to plot the average traffic by the day of the week (for example, Monday vs. Friday).\n",
    "\n",
    "2. Using hvPlot, visualize this traffic as a heatmap, referencing the `index.hour` as the x-axis and the `index.dayofweek` as the y-axis. Does any day-of-week effect that you observe concentrate in just a few hours of that day?\n",
    "\n",
    "3. Group the search data by the week of the year. Does the search traffic tend to increase during the winter holiday period (weeks 40 through 52)?\n",
    "\n",
    "## Step 3: Relate the Search Traffic to Stock Price Patterns\n",
    "\n",
    "You mention your work on the search traffic data during a meeting with people in the finance group at the company. They want to know if any relationship between the search data and the company stock price exists, and they ask if you can investigate.\n",
    "\n",
    "To do so, complete the following steps:\n",
    "\n",
    "1. Read in and plot the stock price data. Concatenate the stock price data to the search data in a single DataFrame.\n",
    "\n",
    "2. Market events emerged during the year of 2020 that many companies found difficult. But, after the initial shock to global financial markets, new customers and revenue increased for e-commerce platforms. Slice the data to just the first half of 2020 (`2020-01` to `2020-06` in the DataFrame), and then use hvPlot to plot the data. Do both time series indicate a common trend that’s consistent with this narrative?\n",
    "\n",
    "3. Create a new column in the DataFrame named “Lagged Search Trends” that offsets, or shifts, the search traffic by one hour. Create two additional columns:\n",
    "\n",
    "    * “Stock Volatility”, which holds an exponentially weighted four-hour rolling average of the company’s stock volatility\n",
    "\n",
    "    * “Hourly Stock Return”, which holds the percent change of the company's stock price on an hourly basis\n",
    "\n",
    "4. Review the time series correlation, and then answer the following question: Does a predictable relationship exist between the lagged search traffic and the stock volatility or between the lagged search traffic and the stock price returns?\n",
    "\n",
    "## Step 4: Create a Time Series Model with Prophet\n",
    "\n",
    "Now, you need to produce a time series model that analyzes and forecasts patterns in the hourly search data. To do so, complete the following steps:\n",
    "\n",
    "1. Set up the Google search data for a Prophet forecasting model.\n",
    "\n",
    "2. After estimating the model, plot the forecast. How's the near-term forecast for the popularity of MercadoLibre?\n",
    "\n",
    "3. Plot the individual time series components of the model to answer the following questions:\n",
    "\n",
    "    * What time of day exhibits the greatest popularity?\n",
    "\n",
    "    * Which day of the week gets the most search traffic?\n",
    "\n",
    "    * What's the lowest point for search traffic in the calendar year?\n",
    "\n",
    "## Step 5 (Optional): Forecast Revenue by Using Time Series Models\n",
    "\n",
    "A few weeks after your initial analysis, the finance group follows up to find out if you can help them solve a different problem. Your fame as a growth analyst in the company continues to grow!\n",
    "\n",
    "Specifically, the finance group wants a forecast of the total sales for the next quarter. This will dramatically increase their ability to plan budgets and to help guide expectations for the company investors.\n",
    "\n",
    "To do so, complete the following steps:\n",
    "\n",
    "1. Read in the daily historical sales (that is, revenue) figures, and then apply a Prophet model to the data.\n",
    "\n",
    "2. Interpret the model output to identify any seasonal patterns in the company's revenue. For example, what are the peak revenue days? (Mondays? Fridays? Something else?)\n",
    "\n",
    "3. Produce a sales forecast for the finance group. Give them a number for the expected total sales in the next quarter. Include the best- and worst-case scenarios to help them make better plans.\n"
   ]
  },
  {
   "cell_type": "markdown",
   "metadata": {},
   "source": [
    "## Install and import the required libraries and dependencies"
   ]
  },
  {
   "cell_type": "code",
   "execution_count": null,
   "metadata": {},
   "outputs": [],
   "source": [
    "# Install the required libraries\n",
    "!pip install pystan\n",
    "!pip install prophet\n",
    "!pip install hvplot\n",
    "!pip install holoviews"
   ]
  },
  {
   "cell_type": "code",
   "execution_count": null,
   "metadata": {},
   "outputs": [],
   "source": [
    "# Import the required libraries and dependencies\n",
    "import pandas as pd\n",
    "import holoviews as hv\n",
    "from prophet import Prophet\n",
    "import hvplot.pandas\n",
    "import datetime as dt\n",
    "%matplotlib inline"
   ]
  },
  {
   "cell_type": "markdown",
   "metadata": {},
   "source": [
    "## Step 1: Find Unusual Patterns in Hourly Google Search Traffic\n",
    "\n",
    "The data science manager asks if the Google search traffic for the company links to any financial events at the company. Or, does the search traffic data just present random noise? To answer this question, pick out any unusual patterns in the Google search data for the company, and connect them to the corporate financial events.\n",
    "\n",
    "To do so, complete the following steps:\n",
    "\n",
    "1. Read the search data into a DataFrame, and then slice the data to just the month of May 2020. (During this month, MercadoLibre released its quarterly financial results.) Use hvPlot to visualize the results. Do any unusual patterns exist?\n",
    "\n",
    "2. Calculate the total search traffic for the month, and then compare the value to the monthly median across all months. Did the Google search traffic increase during the month that MercadoLibre released its financial results?\n"
   ]
  },
  {
   "cell_type": "markdown",
   "metadata": {},
   "source": [
    "#### Step 1: Read the search data into a DataFrame, and then slice the data to just the month of May 2020. (During this month, MercadoLibre released its quarterly financial results.) Use hvPlot to visualize the results. Do any unusual patterns exist?"
   ]
  },
  {
   "cell_type": "code",
   "execution_count": null,
   "metadata": {},
   "outputs": [],
   "source": [
    "# Upload the \"google_hourly_search_trends.csv\" file into Colab, then store in a Pandas DataFrame\n",
    "# Set the \"Date\" column as the Datetime Index.\n",
    "\n",
    "\n",
    "from google.colab import files\n",
    "uploaded = files.upload()\n",
    "\n",
    "df = pd.read_csv(\"google_hourly_search_trends.csv\",\n",
    "                 index_col=\"Date\",\n",
    "                 infer_datetime_format=True,\n",
    "                 parse_dates=True\n",
    "                )\n",
    "\n",
    "\n",
    "# Preview the dataset\n",
    "df.head()\n"
   ]
  },
  {
   "cell_type": "code",
   "execution_count": null,
   "metadata": {},
   "outputs": [],
   "source": [
    "# Holoviews extension to render hvPlots in Colab\n",
    "hv.extension('bokeh')\n",
    "\n",
    "# Slice the DataFrame to just the month of May 2020\n",
    "df_may_2020 = df.loc[(df.index.month == 5) & (df.index.year == 2020)]\n",
    "# Use hvPlot to visualize the data for May 2020\n",
    "df_may_2020.hvplot()\n"
   ]
  },
  {
   "cell_type": "markdown",
   "metadata": {},
   "source": [
    "#### Step 2: Calculate the total search traffic for the month, and then compare the value to the monthly median across all months. Did the Google search traffic increase during the month that MercadoLibre released its financial results?"
   ]
  },
  {
   "cell_type": "code",
   "execution_count": null,
   "metadata": {},
   "outputs": [],
   "source": [
    "# Calculate the sum of the total search traffic for May 2020\n",
    "traffic_may_2020 = df_may_2020.sum()\n",
    "median_may_2020 = df_may_2020.median()\n",
    "# View the traffic_may_2020 value\n",
    "traffic_may_2020\n"
   ]
  },
  {
   "cell_type": "code",
   "execution_count": null,
   "metadata": {},
   "outputs": [],
   "source": [
    "# Calcluate the monhtly median search traffic across all months \n",
    "# Group the DataFrame by index year and then index month, chain the sum and then the median functions\n",
    "monthly_median_traffic = df.groupby([df.index.year, df.index.month])['Search Trends'].median()\n",
    "\n",
    "# View the median_monthly_traffic value\n",
    "monthly_median_traffic\n",
    "overall_median = monthly_median_traffic.median()"
   ]
  },
  {
   "cell_type": "code",
   "execution_count": null,
   "metadata": {},
   "outputs": [],
   "source": [
    "# Compare the seach traffic for the month of May 2020 to the overall monthly median value\n",
    "print(\"May Median:\", median_may_2020)\n",
    "print('Overall Median:', overall_median)\n"
   ]
  },
  {
   "cell_type": "markdown",
   "metadata": {},
   "source": [
    "##### Answer the following question: "
   ]
  },
  {
   "cell_type": "markdown",
   "metadata": {},
   "source": [
    "**Question:** Did the Google search traffic increase during the month that MercadoLibre released its financial results?\n",
    "\n",
    "**Answer:** Based on the medidan of May 2020, and comparing against the total data sets media, yes.  The search traffic increased."
   ]
  },
  {
   "cell_type": "markdown",
   "metadata": {},
   "source": [
    "## Step 2: Mine the Search Traffic Data for Seasonality\n",
    "\n",
    "Marketing realizes that they can use the hourly search data, too. If they can track and predict interest in the company and its platform for any time of day, they can focus their marketing efforts around the times that have the most traffic. This will get a greater return on investment (ROI) from their marketing budget.\n",
    "\n",
    "To that end, you want to mine the search traffic data for predictable seasonal patterns of interest in the company. To do so, complete the following steps:\n",
    "\n",
    "1. Group the hourly search data to plot the average traffic by the day of the week (for example, Monday vs. Friday).\n",
    "\n",
    "2. Using hvPlot, visualize this traffic as a heatmap, referencing the `index.hour` as the x-axis and the `index.dayofweek` as the y-axis. Does any day-of-week effect that you observe concentrate in just a few hours of that day?\n",
    "\n",
    "3. Group the search data by the week of the year. Does the search traffic tend to increase during the winter holiday period (weeks 40 through 52)?\n"
   ]
  },
  {
   "cell_type": "markdown",
   "metadata": {},
   "source": [
    "#### Step 1: Group the hourly search data to plot the average traffic by the day of the week (for example, Monday vs. Friday)."
   ]
  },
  {
   "cell_type": "code",
   "execution_count": 1,
   "metadata": {},
   "outputs": [
    {
     "ename": "NameError",
     "evalue": "name 'hv' is not defined",
     "output_type": "error",
     "traceback": [
      "\u001b[1;31m---------------------------------------------------------------------------\u001b[0m",
      "\u001b[1;31mNameError\u001b[0m                                 Traceback (most recent call last)",
      "Cell \u001b[1;32mIn[1], line 2\u001b[0m\n\u001b[0;32m      1\u001b[0m \u001b[38;5;66;03m# Set `bokeh` to render hvPlot charts\u001b[39;00m\n\u001b[1;32m----> 2\u001b[0m \u001b[43mhv\u001b[49m\u001b[38;5;241m.\u001b[39mextension(\u001b[38;5;124m\"\u001b[39m\u001b[38;5;124mbokeh\u001b[39m\u001b[38;5;124m\"\u001b[39m)\n\u001b[0;32m      4\u001b[0m \u001b[38;5;66;03m# Use hvPlot to visually inspect the price data\u001b[39;00m\n\u001b[0;32m      5\u001b[0m df[\u001b[38;5;124m\"\u001b[39m\u001b[38;5;124mSearch Trend\u001b[39m\u001b[38;5;124m\"\u001b[39m]\u001b[38;5;241m.\u001b[39mhvplot()\n",
      "\u001b[1;31mNameError\u001b[0m: name 'hv' is not defined"
     ]
    }
   ],
   "source": [
    "# Set `bokeh` to render hvPlot charts\n",
    "hv.extension(\"bokeh\")\n",
    "\n",
    "# Use hvPlot to visually inspect the price data\n",
    "df[\"Search Trends\"].hvplot()"
   ]
  },
  {
   "cell_type": "markdown",
   "metadata": {},
   "source": [
    "#### Step 2: Using hvPlot, visualize this traffic as a heatmap, referencing the `index.hour` as the x-axis and the `index.dayofweek` as the y-axis. Does any day-of-week effect that you observe concentrate in just a few hours of that day?"
   ]
  },
  {
   "cell_type": "code",
   "execution_count": null,
   "metadata": {},
   "outputs": [],
   "source": [
    "# Holoviews extension to render hvPlots in Colab\n",
    "hv.extension('bokeh')\n",
    "\n",
    "df.hvplot.heatmap(\n",
    "    x=\"index.hour\",\n",
    "    y=\"index.dayofweek\",\n",
    "    C=\"Search Trends\",\n",
    "    cmap=\"viridis\",\n",
    ").aggregate(function=np.mean)"
   ]
  },
  {
   "cell_type": "markdown",
   "metadata": {},
   "source": [
    "##### Answer the following question:"
   ]
  },
  {
   "cell_type": "markdown",
   "metadata": {},
   "source": [
    "**Question:** Does any day-of-week effect that you observe concentrate in just a few hours of that day?\n",
    "\n",
    "**Answer:** Earlier in the week seems to be the most popular part of the week.  In the 24 hr and the 0hr is the most active part of the day for searching."
   ]
  },
  {
   "cell_type": "markdown",
   "metadata": {},
   "source": [
    "#### Step 3: Group the search data by the week of the year. Does the search traffic tend to increase during the winter holiday period (weeks 40 through 52)?"
   ]
  },
  {
   "cell_type": "code",
   "execution_count": null,
   "metadata": {},
   "outputs": [],
   "source": [
    "# Calculate week of the year\n",
    "df[\"week_of_year\"] = df.index.isocalendar().week\n",
    "df_slice = df[df[\"week_of_year\"].between(40, 52)]\n",
    "winter_holiday_data = df_slice.groupby([\"week_of_year\", df_slice.index.hour])[\"Search Trends\"].mean().unstack()\n",
    "\n",
    "# Set `bokeh` to render hvPlot charts\n",
    "hv.extension(\"bokeh\")\n",
    "\n",
    "# Use hvPlot to visually inspect the price data\n",
    "winter_holiday_data.hvplot()"
   ]
  },
  {
   "cell_type": "markdown",
   "metadata": {},
   "source": [
    "##### Answer the following question:"
   ]
  },
  {
   "cell_type": "markdown",
   "metadata": {},
   "source": [
    "**Question:** Does the search traffic tend to increase during the winter holiday period (weeks 40 through 52)?\n",
    "\n",
    "**Answer:** From the data I have plotted, it seems to be flat, and then taper off towards the end of the year."
   ]
  },
  {
   "cell_type": "markdown",
   "metadata": {},
   "source": [
    "## Step 3: Relate the Search Traffic to Stock Price Patterns\n",
    "\n",
    "You mention your work on the search traffic data during a meeting with people in the finance group at the company. They want to know if any relationship between the search data and the company stock price exists, and they ask if you can investigate.\n",
    "\n",
    "To do so, complete the following steps:\n",
    "\n",
    "1. Read in and plot the stock price data. Concatenate the stock price data to the search data in a single DataFrame.\n",
    "\n",
    "2. Market events emerged during the year of 2020 that many companies found difficult. But, after the initial shock to global financial markets, new customers and revenue increased for e-commerce platforms. Slice the data to just the first half of 2020 (`2020-01` to `2020-06` in the DataFrame), and then use hvPlot to plot the data. Do both time series indicate a common trend that’s consistent with this narrative?\n",
    "\n",
    "3. Create a new column in the DataFrame named “Lagged Search Trends” that offsets, or shifts, the search traffic by one hour. Create two additional columns:\n",
    "\n",
    "    * “Stock Volatility”, which holds an exponentially weighted four-hour rolling average of the company’s stock volatility\n",
    "\n",
    "    * “Hourly Stock Return”, which holds the percent change of the company's stock price on an hourly basis\n",
    "\n",
    "4. Review the time series correlation, and then answer the following question: Does a predictable relationship exist between the lagged search traffic and the stock volatility or between the lagged search traffic and the stock price returns?\n"
   ]
  },
  {
   "cell_type": "markdown",
   "metadata": {},
   "source": [
    "#### Step 1: Read in and plot the stock price data. Concatenate the stock price data to the search data in a single DataFrame."
   ]
  },
  {
   "cell_type": "code",
   "execution_count": null,
   "metadata": {},
   "outputs": [],
   "source": [
    "# Upload the \"mercado_stock_price.csv\" file into Colab, then store in a Pandas DataFrame\n",
    "# Set the \"date\" column as the Datetime Index.\n",
    "\n",
    "from google.colab import files\n",
    "uploaded = files.upload()\n",
    "\n",
    "df_stock = pd.read_csv(\"mercado_stock_price.csv\",\n",
    "                 index_col=\"date\",\n",
    "                 infer_datetime_format=True,\n",
    "                 parse_dates=True\n",
    "                )\n",
    "df_stock.head()\n"
   ]
  },
  {
   "cell_type": "code",
   "execution_count": null,
   "metadata": {},
   "outputs": [],
   "source": [
    "# Holoviews extension to render hvPlots in Colab\n",
    "hv.extension('bokeh')\n",
    "\n",
    "# Use hvPlot to visualize the closing price of the df_mercado_stock DataFrame\n",
    "df_stock.hvplot()"
   ]
  },
  {
   "cell_type": "code",
   "execution_count": null,
   "metadata": {},
   "outputs": [],
   "source": [
    "# Concatenate the df_mercado_stock DataFrame with the df_mercado_trends DataFrame\n",
    "# Concatenate the DataFrame by columns (axis=1), and drop and rows with only one column of data\n",
    "df_merged = pd.concat([df_stock, df], axis=1, join=\"inner\")\n",
    "\n",
    "# View the first and last five rows of the DataFrame\n",
    "df_merged.head()\n"
   ]
  },
  {
   "cell_type": "markdown",
   "metadata": {},
   "source": [
    "#### Step 2: Market events emerged during the year of 2020 that many companies found difficult. But, after the initial shock to global financial markets, new customers and revenue increased for e-commerce platforms. Slice the data to just the first half of 2020 (`2020-01` to `2020-06` in the DataFrame), and then use hvPlot to plot the data. Do both time series indicate a common trend that’s consistent with this narrative?"
   ]
  },
  {
   "cell_type": "code",
   "execution_count": null,
   "metadata": {},
   "outputs": [],
   "source": [
    "# For the combined dataframe, slice to just the first half of 2020 (2020-01 through 2020-06) \n",
    "first_half_2020 = df_merged_date_index[(df_merged_date_index.index.year == 2020) & (df_merged_date_index.index.month <= 6)]\n",
    "first_half_2020.head()\n"
   ]
  },
  {
   "cell_type": "code",
   "execution_count": null,
   "metadata": {},
   "outputs": [],
   "source": [
    "# Holoviews extension to render hvPlots in Colab\n",
    "hv.extension('bokeh')\n",
    "\n",
    "hv.extension('bokeh')\n",
    "first_half_2020.hvplot(shared_axes=False, subplots=True).cols(1)\n"
   ]
  },
  {
   "cell_type": "markdown",
   "metadata": {},
   "source": [
    "##### Answer the following question:"
   ]
  },
  {
   "cell_type": "markdown",
   "metadata": {},
   "source": [
    "**Question:** Do both time series indicate a common trend that’s consistent with this narrative?\n",
    "\n",
    "**Answer:** From the search trends, it doesnt seem to be much of a connection, search trends seem to range, with minimal what appears to have minimum impact on stock price."
   ]
  },
  {
   "cell_type": "markdown",
   "metadata": {},
   "source": [
    "#### Step 3: Create a new column in the DataFrame named “Lagged Search Trends” that offsets, or shifts, the search traffic by one hour. Create two additional columns:\n",
    "\n",
    "* “Stock Volatility”, which holds an exponentially weighted four-hour rolling average of the company’s stock volatility\n",
    "\n",
    "* “Hourly Stock Return”, which holds the percent change of the company's stock price on an hourly basis\n"
   ]
  },
  {
   "cell_type": "code",
   "execution_count": null,
   "metadata": {},
   "outputs": [],
   "source": [
    "# Create a new column in the mercado_stock_trends_df DataFrame called Lagged Search Trends\n",
    "# This column should shift the Search Trends information by one hour\n",
    "df_merged_date_index[\"Lagged Search Trends\"] = df_merged_date_index[\"Search Trends\"].shift(1)\n"
   ]
  },
  {
   "cell_type": "code",
   "execution_count": null,
   "metadata": {},
   "outputs": [],
   "source": [
    "# Create a new column in the mercado_stock_trends_df DataFrame called Stock Volatility\n",
    "# This column should calculate the standard deviation of the closing stock price return data over a 4 period rolling window\n",
    "# Calculate the closing stock price return\n",
    "df_merged_date_index[\"Close Return\"] = df_merged_date_index[\"close\"].pct_change(1)\n",
    "\n",
    "# Calculate the rolling standard deviation of the close return\n",
    "df_merged_date_index[\"Stock Volatility\"] = df_merged_date_index[\"Close Return\"].rolling(4).std()\n"
   ]
  },
  {
   "cell_type": "code",
   "execution_count": null,
   "metadata": {},
   "outputs": [],
   "source": [
    "# Holoviews extension to render hvPlots in Colab\n",
    "hv.extension('bokeh')\n",
    "\n",
    "hv.extension('bokeh')\n",
    "\n",
    "df_merged_date_index.hvplot(\n",
    "    x=\"date\",\n",
    "    y=[\"Close Return\", \"Stock Volatility\"],\n",
    "    kind=\"line\",\n",
    "    title=\"Return and Vol\",\n",
    "    legend=\"top\",\n",
    ")"
   ]
  },
  {
   "cell_type": "markdown",
   "metadata": {},
   "source": [
    "**Solution Note:** Note how volatility spiked, and tended to stay high, during the first half of 2020. This is a common characteristic of volatility in stock returns worldwide: high volatility days tend to be followed by yet more high volatility days. When it rains, it pours."
   ]
  },
  {
   "cell_type": "code",
   "execution_count": null,
   "metadata": {},
   "outputs": [],
   "source": [
    "# Calculate the hourly return percentage\n",
    "closing_price_diff = df_merged_date_index[\"close\"].diff()\n",
    "df_merged_date_index[\"Hourly Stock Return\"] = (closing_price_diff / df_merged_date_index[\"close\"]).pct_change(1) * 100"
   ]
  },
  {
   "cell_type": "code",
   "execution_count": 5,
   "metadata": {},
   "outputs": [
    {
     "ename": "NameError",
     "evalue": "name 'df_merged_date_index' is not defined",
     "output_type": "error",
     "traceback": [
      "\u001b[1;31m---------------------------------------------------------------------------\u001b[0m",
      "\u001b[1;31mNameError\u001b[0m                                 Traceback (most recent call last)",
      "Cell \u001b[1;32mIn[5], line 3\u001b[0m\n\u001b[0;32m      1\u001b[0m \u001b[38;5;66;03m# View the first and last five rows of the mercado_stock_trends_df DataFrame\u001b[39;00m\n\u001b[0;32m      2\u001b[0m \u001b[38;5;66;03m# View first five rows\u001b[39;00m\n\u001b[1;32m----> 3\u001b[0m \u001b[38;5;28mprint\u001b[39m(\u001b[43mdf_merged_date_index\u001b[49m\u001b[38;5;241m.\u001b[39mhead())\n\u001b[0;32m      5\u001b[0m \u001b[38;5;66;03m# View last five rows\u001b[39;00m\n\u001b[0;32m      6\u001b[0m \u001b[38;5;28mprint\u001b[39m(df_merged_date_index\u001b[38;5;241m.\u001b[39mtail())\n",
      "\u001b[1;31mNameError\u001b[0m: name 'df_merged_date_index' is not defined"
     ]
    }
   ],
   "source": [
    "# View the first and last five rows of the mercado_stock_trends_df DataFrame\n",
    "# View first five rows\n",
    "print(df_merged_date_index.head())\n",
    "\n",
    "# View last five rows\n",
    "print(df_merged_date_index.tail())\n"
   ]
  },
  {
   "cell_type": "markdown",
   "metadata": {},
   "source": [
    "#### Step 4: Review the time series correlation, and then answer the following question: Does a predictable relationship exist between the lagged search traffic and the stock volatility or between the lagged search traffic and the stock price returns?"
   ]
  },
  {
   "cell_type": "code",
   "execution_count": null,
   "metadata": {},
   "outputs": [],
   "source": [
    "# Construct correlation table of Stock Volatility, Lagged Search Trends, and Hourly Stock Return\n",
    "# Select relevant columns\n",
    "input_data = df_merged_date_index[[\"Stock Volatility\", \"Lagged Search Trends\", \"Hourly Stock Return\"]]\n",
    "\n",
    "# Calculate correlation matrix\n",
    "correlation_matrix = input_data.corr()\n",
    "\n",
    "# Display the correlation table\n",
    "print(correlation_matrix)\n"
   ]
  },
  {
   "cell_type": "markdown",
   "metadata": {},
   "source": [
    "##### Answer the following question:\n"
   ]
  },
  {
   "cell_type": "markdown",
   "metadata": {},
   "source": [
    "**Question:** Does a predictable relationship exist between the lagged search traffic and the stock volatility or between the lagged search traffic and the stock price returns?\n",
    "\n",
    "**Answer:** Yes when there is high vol, searching for the stock subsides.  The correleation between search terms and price is pretty low, at .0002."
   ]
  },
  {
   "cell_type": "markdown",
   "metadata": {},
   "source": [
    "## Step 4: Create a Time Series Model with Prophet\n",
    "\n",
    "Now, you need to produce a time series model that analyzes and forecasts patterns in the hourly search data. To do so, complete the following steps:\n",
    "\n",
    "1. Set up the Google search data for a Prophet forecasting model.\n",
    "\n",
    "2. After estimating the model, plot the forecast. How's the near-term forecast for the popularity of MercadoLibre?\n",
    "\n",
    "3. Plot the individual time series components of the model to answer the following questions:\n",
    "\n",
    "    * What time of day exhibits the greatest popularity?\n",
    "\n",
    "    * Which day of the week gets the most search traffic?\n",
    "\n",
    "    * What's the lowest point for search traffic in the calendar year?\n"
   ]
  },
  {
   "cell_type": "markdown",
   "metadata": {},
   "source": [
    "#### Step 1: Set up the Google search data for a Prophet forecasting model."
   ]
  },
  {
   "cell_type": "code",
   "execution_count": null,
   "metadata": {},
   "outputs": [],
   "source": [
    "# Using the df_mercado_trends DataFrame, reset the index so the date information is no longer the index\n",
    "mercado_prophet_df = df_merged_date_index.reset_index()\n",
    "\n",
    "# Label the columns ds and y so that the syntax is recognized by Prophet\n",
    "mercado_prophet_df = mercado_prophet_df[[\"date\",\"Search Trends\"]]\n",
    "\n",
    "# Rename \"date\" to \"ds\" and \"Search Trends\" to \"y\"\n",
    "mercado_prophet_df = mercado_prophet_df.rename(columns={\"date\": \"ds\", \"Search Trends\": \"y\"})\n",
    "\n",
    "# Drop an NaN values from the prophet_df DataFrame\n",
    "mercado_prophet_df = mercado_prophet_df.dropna()\n",
    "mercado_prophet_df.head()\n",
    "# View the first and last five rows of the mercado_prophet_df DataFrame\n",
    "# YOUR CODE HERE\n"
   ]
  },
  {
   "cell_type": "code",
   "execution_count": null,
   "metadata": {},
   "outputs": [],
   "source": [
    "# Call the Prophet function, store as an object\n",
    "model_mercado_trends = Prophet()\n"
   ]
  },
  {
   "cell_type": "code",
   "execution_count": null,
   "metadata": {},
   "outputs": [],
   "source": [
    "# Fit the time-series model.\n",
    "model_mercado_trends.fit(mercado_prophet_df)\n"
   ]
  },
  {
   "cell_type": "code",
   "execution_count": null,
   "metadata": {},
   "outputs": [],
   "source": [
    "# Create a future dataframe to hold predictions\n",
    "# Make the prediction go out as far as 2000 hours (approx 80 days)\n",
    "future_mercado_trends = model_mercado_trends.make_future_dataframe(periods=2000, freq=\"H\")\n",
    "\n",
    "# View the last five rows of the predictions\n",
    "future_mercado_trends.tail()\n"
   ]
  },
  {
   "cell_type": "code",
   "execution_count": null,
   "metadata": {},
   "outputs": [],
   "source": [
    "# Make the predictions for the trend data using the future_mercado_trends DataFrame\n",
    "# Make the predictions for the trend data using the future_trends DataFrame\n",
    "forecast_mercado_trends = model_mercado_trends.predict(future_mercado_trends)\n",
    "\n",
    "# Display the first five rows of the forecast DataFrame\n",
    "forecast_mercado_trends.head()\n"
   ]
  },
  {
   "cell_type": "markdown",
   "metadata": {},
   "source": [
    "#### Step 2: After estimating the model, plot the forecast. How's the near-term forecast for the popularity of MercadoLibre?"
   ]
  },
  {
   "cell_type": "code",
   "execution_count": 8,
   "metadata": {},
   "outputs": [
    {
     "ename": "NameError",
     "evalue": "name 'model_mercado_trends' is not defined",
     "output_type": "error",
     "traceback": [
      "\u001b[1;31m---------------------------------------------------------------------------\u001b[0m",
      "\u001b[1;31mNameError\u001b[0m                                 Traceback (most recent call last)",
      "Cell \u001b[1;32mIn[8], line 1\u001b[0m\n\u001b[1;32m----> 1\u001b[0m \u001b[43mmodel_mercado_trends\u001b[49m\u001b[38;5;241m.\u001b[39mplot(forecast_mercado_trends)\n",
      "\u001b[1;31mNameError\u001b[0m: name 'model_mercado_trends' is not defined"
     ]
    }
   ],
   "source": [
    "model_mercado_trends.plot(forecast_mercado_trends)"
   ]
  },
  {
   "cell_type": "markdown",
   "metadata": {},
   "source": [
    "##### Answer the following question:"
   ]
  },
  {
   "cell_type": "markdown",
   "metadata": {},
   "source": [
    "**Question:**  How's the near-term forecast for the popularity of MercadoLibre?\n",
    "\n",
    "**Answer:** Near term, the forecast is downward popularity.\n"
   ]
  },
  {
   "cell_type": "markdown",
   "metadata": {},
   "source": [
    "#### Step 3: Plot the individual time series components of the model to answer the following questions:\n",
    "\n",
    "* What time of day exhibits the greatest popularity?\n",
    "\n",
    "* Which day of the week gets the most search traffic?\n",
    "\n",
    "* What's the lowest point for search traffic in the calendar year?\n"
   ]
  },
  {
   "cell_type": "code",
   "execution_count": 9,
   "metadata": {},
   "outputs": [
    {
     "ename": "NameError",
     "evalue": "name 'model_mercado_trends' is not defined",
     "output_type": "error",
     "traceback": [
      "\u001b[1;31m---------------------------------------------------------------------------\u001b[0m",
      "\u001b[1;31mNameError\u001b[0m                                 Traceback (most recent call last)",
      "Cell \u001b[1;32mIn[9], line 2\u001b[0m\n\u001b[0;32m      1\u001b[0m \u001b[38;5;66;03m# Set the index in the forecast_mercado_trends DataFrame to the ds datetime column\u001b[39;00m\n\u001b[1;32m----> 2\u001b[0m figures \u001b[38;5;241m=\u001b[39m \u001b[43mmodel_mercado_trends\u001b[49m\u001b[38;5;241m.\u001b[39mplot_components(forecast_mercado_trends)\n\u001b[0;32m      4\u001b[0m \u001b[38;5;66;03m# View the only the yhat,yhat_lower and yhat_upper columns from the DataFrame\u001b[39;00m\n\u001b[0;32m      5\u001b[0m forecast_trends \u001b[38;5;241m=\u001b[39m forecast_mercado_trends\u001b[38;5;241m.\u001b[39mset_index([\u001b[38;5;124m\"\u001b[39m\u001b[38;5;124mds\u001b[39m\u001b[38;5;124m\"\u001b[39m])\n",
      "\u001b[1;31mNameError\u001b[0m: name 'model_mercado_trends' is not defined"
     ]
    }
   ],
   "source": [
    "# Set the index in the forecast_mercado_trends DataFrame to the ds datetime column\n",
    "figures = model_mercado_trends.plot_components(forecast_mercado_trends)\n",
    "\n",
    "# View the only the yhat,yhat_lower and yhat_upper columns from the DataFrame\n",
    "forecast_trends = forecast_mercado_trends.set_index([\"ds\"])\n",
    "forecast_trends.head()\n",
    "\n"
   ]
  },
  {
   "cell_type": "markdown",
   "metadata": {},
   "source": [
    "Solutions Note: `yhat` represents the most likely (average) forecast, whereas `yhat_lower` and `yhat_upper` represents the worst and best case prediction (based on what are known as 95% confidence intervals)."
   ]
  },
  {
   "cell_type": "code",
   "execution_count": 6,
   "metadata": {},
   "outputs": [
    {
     "ename": "NameError",
     "evalue": "name 'hv' is not defined",
     "output_type": "error",
     "traceback": [
      "\u001b[1;31m---------------------------------------------------------------------------\u001b[0m",
      "\u001b[1;31mNameError\u001b[0m                                 Traceback (most recent call last)",
      "Cell \u001b[1;32mIn[6], line 2\u001b[0m\n\u001b[0;32m      1\u001b[0m \u001b[38;5;66;03m# Holoviews extension to render hvPlots in Colab\u001b[39;00m\n\u001b[1;32m----> 2\u001b[0m \u001b[43mhv\u001b[49m\u001b[38;5;241m.\u001b[39mextension(\u001b[38;5;124m'\u001b[39m\u001b[38;5;124mbokeh\u001b[39m\u001b[38;5;124m'\u001b[39m)\n\u001b[0;32m      4\u001b[0m \u001b[38;5;66;03m# From the forecast_mercado_trends DataFrame, use hvPlot to visualize\u001b[39;00m\n\u001b[0;32m      5\u001b[0m \u001b[38;5;66;03m#  the yhat, yhat_lower, and yhat_upper columns over the last 2000 hours \u001b[39;00m\n\u001b[0;32m      6\u001b[0m forecast_trends[[\u001b[38;5;124m\"\u001b[39m\u001b[38;5;124myhat\u001b[39m\u001b[38;5;124m\"\u001b[39m, \u001b[38;5;124m\"\u001b[39m\u001b[38;5;124myhat_lower\u001b[39m\u001b[38;5;124m\"\u001b[39m, \u001b[38;5;124m\"\u001b[39m\u001b[38;5;124myhat_upper\u001b[39m\u001b[38;5;124m\"\u001b[39m]]\u001b[38;5;241m.\u001b[39miloc[\u001b[38;5;241m-\u001b[39m\u001b[38;5;241m84\u001b[39m:, :]\u001b[38;5;241m.\u001b[39mhvplot()\n",
      "\u001b[1;31mNameError\u001b[0m: name 'hv' is not defined"
     ]
    }
   ],
   "source": [
    "# Holoviews extension to render hvPlots in Colab\n",
    "hv.extension('bokeh')\n",
    "\n",
    "# From the forecast_mercado_trends DataFrame, use hvPlot to visualize\n",
    "#  the yhat, yhat_lower, and yhat_upper columns over the last 2000 hours \n",
    "forecast_trends[[\"yhat\", \"yhat_lower\", \"yhat_upper\"]].iloc[-84:, :].hvplot()\n"
   ]
  },
  {
   "cell_type": "code",
   "execution_count": null,
   "metadata": {},
   "outputs": [],
   "source": [
    "# Reset the index in the forecast_mercado_trends DataFrame\n",
    "forecast_mercado_trends = # YOUR CODE HERE\n",
    "\n",
    "# Use the plot_components function to visualize the forecast results \n",
    "\n",
    "figures = model_mercado_trends.plot_components(forecast_mercado_trends)\n"
   ]
  },
  {
   "cell_type": "markdown",
   "metadata": {},
   "source": [
    "##### Answer the following questions:"
   ]
  },
  {
   "cell_type": "markdown",
   "metadata": {},
   "source": [
    "**Question:** What time of day exhibits the greatest popularity?\n",
    "\n",
    "**Answer:** Hour 00:00:00 appears to have the highest popularity."
   ]
  },
  {
   "cell_type": "markdown",
   "metadata": {},
   "source": [
    "**Question:** Which day of week gets the most search traffic? \n",
    "   \n",
    "**Answer:** # Tuesday"
   ]
  },
  {
   "cell_type": "markdown",
   "metadata": {},
   "source": [
    "**Question:** What's the lowest point for search traffic in the calendar year?\n",
    "\n",
    "**Answer:** November\n"
   ]
  },
  {
   "cell_type": "markdown",
   "metadata": {},
   "source": [
    "## Step 5 (Optional): Forecast Revenue by Using Time Series Models\n",
    "\n",
    "A few weeks after your initial analysis, the finance group follows up to find out if you can help them solve a different problem. Your fame as a growth analyst in the company continues to grow!\n",
    "\n",
    "Specifically, the finance group wants a forecast of the total sales for the next quarter. This will dramatically increase their ability to plan budgets and to help guide expectations for the company investors.\n",
    "\n",
    "To do so, complete the following steps:\n",
    "\n",
    "1. Read in the daily historical sales (that is, revenue) figures, and then apply a Prophet model to the data. The daily sales figures are quoted in millions of USD dollars.\n",
    "\n",
    "2. Interpret the model output to identify any seasonal patterns in the company's revenue. For example, what are the peak revenue days? (Mondays? Fridays? Something else?)\n",
    "\n",
    "3. Produce a sales forecast for the finance group. Give them a number for the expected total sales in the next quarter. Include the best- and worst-case scenarios to help them make better plans.\n",
    "\n",
    "\n"
   ]
  },
  {
   "cell_type": "markdown",
   "metadata": {},
   "source": [
    "#### Step 1: Read in the daily historical sales (that is, revenue) figures, and then apply a Prophet model to the data."
   ]
  },
  {
   "cell_type": "code",
   "execution_count": null,
   "metadata": {},
   "outputs": [],
   "source": [
    "# Upload the \"mercado_daily_revenue.csv\" file into Colab, then store in a Pandas DataFrame\n",
    "# Set the \"date\" column as the DatetimeIndex\n",
    "# Sales are quoted in millions of US dollars\n",
    "from google.colab import files\n",
    "uploaded = files.upload()\n",
    "\n",
    "df_mercado_sales = # YOUR CODE HERE\n",
    "\n",
    "# Review the DataFrame\n",
    "# YOUR CODE HERE\n"
   ]
  },
  {
   "cell_type": "code",
   "execution_count": null,
   "metadata": {},
   "outputs": [],
   "source": [
    "# Holoviews extension to render hvPlots in Colab\n",
    "hv.extension('bokeh')\n",
    "\n",
    "# Use hvPlot to visualize the daily sales figures \n",
    "# YOUR CODE HERE\n"
   ]
  },
  {
   "cell_type": "code",
   "execution_count": null,
   "metadata": {},
   "outputs": [],
   "source": [
    "# Apply a Facebook Prophet model to the data.\n",
    "\n",
    "# Set up the dataframe in the neccessary format:\n",
    "# Reset the index so that date becomes a column in the DataFrame\n",
    "mercado_sales_prophet_df = # YOUR CODE HERE\n",
    "\n",
    "# Adjust the columns names to the Prophet syntax\n",
    "mercado_sales_prophet_df.columns = # YOUR CODE HERE\n",
    "\n",
    "# Visualize the DataFrame\n",
    "# YOUR CODE HERE\n"
   ]
  },
  {
   "cell_type": "code",
   "execution_count": null,
   "metadata": {},
   "outputs": [],
   "source": [
    "# Create the model\n",
    "mercado_sales_prophet_model = # YOUR CODE HERE\n",
    "\n",
    "# Fit the model\n",
    "# YOUR CODE HERE\n"
   ]
  },
  {
   "cell_type": "code",
   "execution_count": null,
   "metadata": {},
   "outputs": [],
   "source": [
    "# Predict sales for 90 days (1 quarter) out into the future.\n",
    "\n",
    "# Start by making a future dataframe\n",
    "mercado_sales_prophet_future = # YOUR CODE HERE\n",
    "\n",
    "# Display the last five rows of the future DataFrame\n",
    "# YOUR CODE HERE\n"
   ]
  },
  {
   "cell_type": "code",
   "execution_count": null,
   "metadata": {},
   "outputs": [],
   "source": [
    "# Make predictions for the sales each day over the next quarter\n",
    "mercado_sales_prophet_forecast = # YOUR CODE HERE\n",
    "\n",
    "# Display the first 5 rows of the resulting DataFrame\n",
    "# YOUR CODE HERE\n"
   ]
  },
  {
   "cell_type": "markdown",
   "metadata": {},
   "source": [
    "#### Step 2: Interpret the model output to identify any seasonal patterns in the company's revenue. For example, what are the peak revenue days? (Mondays? Fridays? Something else?)"
   ]
  },
  {
   "cell_type": "code",
   "execution_count": null,
   "metadata": {},
   "outputs": [],
   "source": [
    "# Use the plot_components function to analyze seasonal patterns in the company's revenue\n",
    "# YOUR CODE HERE\n"
   ]
  },
  {
   "cell_type": "markdown",
   "metadata": {},
   "source": [
    "##### Answer the following question:"
   ]
  },
  {
   "cell_type": "markdown",
   "metadata": {},
   "source": [
    "**Question:** For example, what are the peak revenue days? (Mondays? Fridays? Something else?)\n",
    "\n",
    "**Answer:** # YOUR ANSWER HERE"
   ]
  },
  {
   "cell_type": "markdown",
   "metadata": {},
   "source": [
    "#### Step 3: Produce a sales forecast for the finance group. Give them a number for the expected total sales in the next quarter. Include the best- and worst-case scenarios to help them make better plans."
   ]
  },
  {
   "cell_type": "code",
   "execution_count": null,
   "metadata": {},
   "outputs": [],
   "source": [
    "# Plot the predictions for the Mercado sales\n",
    "# YOUR CODE HERE\n"
   ]
  },
  {
   "cell_type": "code",
   "execution_count": null,
   "metadata": {},
   "outputs": [],
   "source": [
    "# For the mercado_sales_prophet_forecast DataFrame, set the ds column as the DataFrame Index\n",
    "mercado_sales_prophet_forecast = # YOUR CODE HERE\n",
    "\n",
    "# Display the first and last five rows of the DataFrame\n",
    "# YOUR CODE HERE\n"
   ]
  },
  {
   "cell_type": "code",
   "execution_count": null,
   "metadata": {},
   "outputs": [],
   "source": [
    "# Produce a sales forecast for the finance division\n",
    "# giving them a number for expected total sales next quarter.\n",
    "# Provide best case (yhat_upper), worst case (yhat_lower), and most likely (yhat) scenarios.\n",
    "\n",
    "# Create a forecast_quarter Dataframe for the period 2020-07-01 to 2020-09-30\n",
    "# The DataFrame should include the columns yhat_upper, yhat_lower, and yhat\n",
    "mercado_sales_forecast_quarter = # YOUR CODE HERE\n",
    "\n",
    "# Update the column names for the forecast_quarter DataFrame\n",
    "# to match what the finance division is looking for \n",
    "mercado_sales_forecast_quarter = # YOUR CODE HERE\n",
    "\n",
    "# Review the last five rows of the DataFrame\n",
    "# YOUR CODE HERE\n"
   ]
  },
  {
   "cell_type": "code",
   "execution_count": null,
   "metadata": {},
   "outputs": [],
   "source": [
    "# Displayed the summed values for all the rows in the forecast_quarter DataFrame\n",
    "# YOUR CODE HERE\n"
   ]
  },
  {
   "cell_type": "markdown",
   "metadata": {},
   "source": [
    "### Based on the forecast information generated above, produce a sales forecast for the finance division, giving them a number for expected total sales next quarter. Include best and worst case scenarios, to better help the finance team plan.\n",
    "\n",
    "**Answer:** # YOUR ANSWER HERE"
   ]
  },
  {
   "cell_type": "code",
   "execution_count": null,
   "metadata": {},
   "outputs": [],
   "source": []
  }
 ],
 "metadata": {
  "kernelspec": {
   "display_name": "Python 3 (ipykernel)",
   "language": "python",
   "name": "python3"
  },
  "language_info": {
   "codemirror_mode": {
    "name": "ipython",
    "version": 3
   },
   "file_extension": ".py",
   "mimetype": "text/x-python",
   "name": "python",
   "nbconvert_exporter": "python",
   "pygments_lexer": "ipython3",
   "version": "3.10.13"
  }
 },
 "nbformat": 4,
 "nbformat_minor": 4
}
